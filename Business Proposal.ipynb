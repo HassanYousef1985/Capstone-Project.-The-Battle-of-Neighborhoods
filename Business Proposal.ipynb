{
    "cells": [
        {
            "metadata": {},
            "cell_type": "markdown",
            "source": "# The Battle of Neighborhoods | Business Proposal | Introduction"
        },
        {
            "metadata": {},
            "cell_type": "markdown",
            "source": "## Introduction:"
        },
        {
            "metadata": {},
            "cell_type": "markdown",
            "source": "Essen is a city in western Germany. Its population of about 600,000 makes it the ninth largest city of Germany, as well as the fourth largest city of the federal state of North Rhine-Westphalia. On the Ruhr and Emscher rivers, Essen geographically is part of the Rhineland and the larger Rhine-Ruhr Metropolitan Region.\n\nIt has a variety of restaurants for every taste therefore to start a restaurant business in this area is not an easy task.\n\nOur stakeholder is willing to open the beer restaurant with middle-high level in Essen .Of course, choosing a location for business is one of the stressful and controversial tasks, since there are a lot of criteria that have to be satisfied in order to achieve the highest revenue. Here are some of them:\n\nthe density of other restaurants\nthe density of specifically beer restaurants\npopulation density around the location\nsolvency of the population around the location\n..."
        },
        {
            "metadata": {},
            "cell_type": "markdown",
            "source": "## Problem Which Tried to Solve:"
        },
        {
            "metadata": {},
            "cell_type": "markdown",
            "source": "In this project, we will implement the basic analysis and try to find the most optimal Borough to open the beer restaurant according to those criteria. It's obvious, that there are many additional factors, such as distance from parking places or distance from the main streets, but this analysis can be done after choosing the Borough, and thus will not be done within the scope of this project."
        },
        {
            "metadata": {},
            "cell_type": "markdown",
            "source": "## Foursquare API:"
        },
        {
            "metadata": {},
            "cell_type": "markdown",
            "source": "This project would use Four-square API as its prime data gathering source as it has a database of millions of places, especially their places API which provides the ability to perform location search, location sharing and details about a business."
        },
        {
            "metadata": {},
            "cell_type": "markdown",
            "source": "## Work Flow:"
        },
        {
            "metadata": {},
            "cell_type": "markdown",
            "source": "Using credentials of Foursquare API features of near-by places of the neighborhoods would be mined. Due to http request limitations the number of places per neighborhood parameter would reasonably be set to 100 and the radius parameter would be set to 500."
        },
        {
            "metadata": {},
            "cell_type": "markdown",
            "source": "## Clustering Approach:"
        },
        {
            "metadata": {},
            "cell_type": "markdown",
            "source": "To compare the similarities of two Borough, we decided to explore neighborhoods, segment them, and group them into clusters to find similar neighborhoods. To be able to do that, we need to cluster data which is a form of unsupervised machine learning: k-means clustering algorithm"
        },
        {
            "metadata": {},
            "cell_type": "markdown",
            "source": "## Libraries Which are Used to Develope the Project:"
        },
        {
            "metadata": {},
            "cell_type": "markdown",
            "source": "Pandas: For creating and manipulating dataframes.\n\nFolium: Python visualization library would be used to visualize the neighborhoods cluster distribution of using interactive leaflet map.\n\nScikit Learn: For importing k-means clustering.\n\nJSON: Library to handle JSON files.\n\nGeocoder: To retrieve Location Data.\n\nBeautiful Soup and Requests: To scrap and library to handle http requests.\n\nMatplotlib: Python Plotting Module."
        },
        {
            "metadata": {},
            "cell_type": "code",
            "source": "",
            "execution_count": null,
            "outputs": []
        }
    ],
    "metadata": {
        "kernelspec": {
            "name": "python3",
            "display_name": "Python 3.6",
            "language": "python"
        },
        "language_info": {
            "name": "python",
            "version": "3.6.9",
            "mimetype": "text/x-python",
            "codemirror_mode": {
                "name": "ipython",
                "version": 3
            },
            "pygments_lexer": "ipython3",
            "nbconvert_exporter": "python",
            "file_extension": ".py"
        }
    },
    "nbformat": 4,
    "nbformat_minor": 4
}