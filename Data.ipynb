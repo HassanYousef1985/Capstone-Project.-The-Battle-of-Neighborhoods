{
    "cells": [
        {
            "metadata": {},
            "cell_type": "markdown",
            "source": "# Data"
        },
        {
            "metadata": {},
            "cell_type": "markdown",
            "source": "## Data Description"
        },
        {
            "metadata": {},
            "cell_type": "markdown",
            "source": "Based on criteria listed above the following data will be utilized in our analysis:\n\n***the number of restaurants within the certain radius of each borough (Foresquare API)\n\n***the net income per person in each borough. Since the restaurant will have middle-high prices, it is important to consider the solvency of population.\n\n***the population and the population density of the borough.Source : https://www.citypopulation.de/en/germany/essen/admin/\n\n***the population above 18 years age. It is obvious, that potential visitors of our beer restaurant are men and women of full age.\n\n*** the coordinates of the boroughs and we will read it from a file into a dataframe"
        },
        {
            "metadata": {},
            "cell_type": "markdown",
            "source": "hjygyh"
        },
        {
            "metadata": {},
            "cell_type": "code",
            "source": "",
            "execution_count": null,
            "outputs": []
        }
    ],
    "metadata": {
        "kernelspec": {
            "name": "python3",
            "display_name": "Python 3.6",
            "language": "python"
        },
        "language_info": {
            "name": "python",
            "version": "3.6.9",
            "mimetype": "text/x-python",
            "codemirror_mode": {
                "name": "ipython",
                "version": 3
            },
            "pygments_lexer": "ipython3",
            "nbconvert_exporter": "python",
            "file_extension": ".py"
        }
    },
    "nbformat": 4,
    "nbformat_minor": 4
}